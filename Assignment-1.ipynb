{
 "cells": [
  {
   "cell_type": "markdown",
   "id": "5f2e0090-cac0-46a3-ab4f-67d23afec827",
   "metadata": {},
   "source": [
    "Q1. Create one variable containing following type of data:"
   ]
  },
  {
   "cell_type": "code",
   "execution_count": 40,
   "id": "a377ddda-c00a-4530-9917-7921f365f575",
   "metadata": {},
   "outputs": [
    {
     "name": "stdout",
     "output_type": "stream",
     "text": [
      "My name is Krunal\n"
     ]
    }
   ],
   "source": [
    "#(i) string\n",
    "my_string= \"My name is Krunal\"\n",
    "print(my_string)"
   ]
  },
  {
   "cell_type": "code",
   "execution_count": 41,
   "id": "7ec077a1-b63a-420d-aa27-ab6215b70c46",
   "metadata": {},
   "outputs": [
    {
     "name": "stdout",
     "output_type": "stream",
     "text": [
      "[1, 5, 8, 12, 556, 79, 99]\n"
     ]
    }
   ],
   "source": [
    "#(ii) list\n",
    "my_list = [1,5,8,12,556,79,99]\n",
    "print(my_list)"
   ]
  },
  {
   "cell_type": "code",
   "execution_count": 42,
   "id": "bffc23fa-4f75-40e0-af63-8219741b1c4d",
   "metadata": {},
   "outputs": [
    {
     "name": "stdout",
     "output_type": "stream",
     "text": [
      "28.6\n"
     ]
    }
   ],
   "source": [
    "#(iii) float \n",
    "my_age = 28.6\n",
    "print(my_age)"
   ]
  },
  {
   "cell_type": "code",
   "execution_count": 43,
   "id": "63d8b877-c063-4ae0-bcfe-c3f13281e90d",
   "metadata": {},
   "outputs": [
    {
     "name": "stdout",
     "output_type": "stream",
     "text": [
      "(20, 10, 30)\n"
     ]
    }
   ],
   "source": [
    "#(iv) Tuple\n",
    "my_tuple = (20, 10, 30)\n",
    "print(my_tuple)"
   ]
  },
  {
   "cell_type": "markdown",
   "id": "fb2c8f97-2e91-443f-aa9c-84f9df17921d",
   "metadata": {},
   "source": [
    "Q2. Given are some following variables containing data:\n"
   ]
  },
  {
   "cell_type": "code",
   "execution_count": 20,
   "id": "fbfafb1a-2382-4cf3-bcd4-49500d65b279",
   "metadata": {},
   "outputs": [],
   "source": [
    "#(ii)\n",
    "var2 = '[ DS , ML , Python]'"
   ]
  },
  {
   "cell_type": "code",
   "execution_count": 21,
   "id": "d26a8484-5f8d-41ac-8a10-88765ee2b9cf",
   "metadata": {},
   "outputs": [
    {
     "data": {
      "text/plain": [
       "str"
      ]
     },
     "execution_count": 21,
     "metadata": {},
     "output_type": "execute_result"
    }
   ],
   "source": [
    "type(var2)"
   ]
  },
  {
   "cell_type": "code",
   "execution_count": 22,
   "id": "1a53d5ad-26b6-48ea-a6d0-1d86abbf85e1",
   "metadata": {},
   "outputs": [],
   "source": [
    "#(i)\n",
    "var1 = ''"
   ]
  },
  {
   "cell_type": "code",
   "execution_count": 23,
   "id": "062f7a0f-f8de-4297-8112-b221b04f3fc2",
   "metadata": {},
   "outputs": [
    {
     "data": {
      "text/plain": [
       "str"
      ]
     },
     "execution_count": 23,
     "metadata": {},
     "output_type": "execute_result"
    }
   ],
   "source": [
    "type(var1)"
   ]
  },
  {
   "cell_type": "code",
   "execution_count": 16,
   "id": "bb0c5dd5-0230-4f1d-8ca5-ba7502a029e8",
   "metadata": {},
   "outputs": [],
   "source": [
    "#(iii)\n",
    "var3 = ['DS', 'ML', 'Python']"
   ]
  },
  {
   "cell_type": "code",
   "execution_count": 17,
   "id": "213c0d44-e74a-46f6-a3f8-dddf474cfb3a",
   "metadata": {},
   "outputs": [
    {
     "data": {
      "text/plain": [
       "list"
      ]
     },
     "execution_count": 17,
     "metadata": {},
     "output_type": "execute_result"
    }
   ],
   "source": [
    "type(var3)"
   ]
  },
  {
   "cell_type": "code",
   "execution_count": 18,
   "id": "639244ad-0daf-4937-9548-6644837d843e",
   "metadata": {},
   "outputs": [],
   "source": [
    "#(iv)\n",
    "var4 = 1.0"
   ]
  },
  {
   "cell_type": "code",
   "execution_count": 19,
   "id": "eabab488-260c-4752-a28c-bacc368e2342",
   "metadata": {},
   "outputs": [
    {
     "data": {
      "text/plain": [
       "float"
      ]
     },
     "execution_count": 19,
     "metadata": {},
     "output_type": "execute_result"
    }
   ],
   "source": [
    "type(var4)"
   ]
  },
  {
   "cell_type": "markdown",
   "id": "b3e46d34-d458-4b25-b680-89441b900af4",
   "metadata": {},
   "source": [
    "Q3. Explain the use of the following operators using an example:"
   ]
  },
  {
   "cell_type": "code",
   "execution_count": 25,
   "id": "969fea25-4bef-453d-b764-76138833eb25",
   "metadata": {},
   "outputs": [
    {
     "name": "stdout",
     "output_type": "stream",
     "text": [
      "3.6666666666666665\n"
     ]
    }
   ],
   "source": [
    "# (i) '/' (Divison operator)\n",
    "a = 11\n",
    "b = 3\n",
    "result = a/b\n",
    "print(result)"
   ]
  },
  {
   "cell_type": "code",
   "execution_count": 26,
   "id": "555c5863-5d57-4db4-9c15-fc2056be9741",
   "metadata": {},
   "outputs": [
    {
     "name": "stdout",
     "output_type": "stream",
     "text": [
      "2\n"
     ]
    }
   ],
   "source": [
    "# (ii) '%' (Modulus Operator)\n",
    "a = 11\n",
    "b = 3\n",
    "result = a % b\n",
    "print(result)"
   ]
  },
  {
   "cell_type": "code",
   "execution_count": 27,
   "id": "368cb936-b974-42ba-ae0e-71cedd1c6260",
   "metadata": {},
   "outputs": [
    {
     "name": "stdout",
     "output_type": "stream",
     "text": [
      "3\n"
     ]
    }
   ],
   "source": [
    "# (iii) '//' (Floor Divison Operator)\n",
    "a = 11\n",
    "b = 3\n",
    "result = a // b\n",
    "print(result)"
   ]
  },
  {
   "cell_type": "code",
   "execution_count": 28,
   "id": "a00f78b3-2ee0-4fc6-9f44-7264dc8599c1",
   "metadata": {},
   "outputs": [
    {
     "name": "stdout",
     "output_type": "stream",
     "text": [
      "1331\n"
     ]
    }
   ],
   "source": [
    "# (iv) '**' (Exponentiation Operator)\n",
    "a = 11\n",
    "b = 3\n",
    "result = a ** b\n",
    "print(result)"
   ]
  },
  {
   "cell_type": "markdown",
   "id": "6531bd3a-1086-4b5e-8a59-5e885de3634f",
   "metadata": {},
   "source": [
    "Q4. Create a list of length 10 of your choice containing multiple types of data. Using for loop print the\n",
    "element and its data type."
   ]
  },
  {
   "cell_type": "code",
   "execution_count": 29,
   "id": "37b4624d-b8c9-464e-ac72-76debd68f77e",
   "metadata": {},
   "outputs": [
    {
     "name": "stdout",
     "output_type": "stream",
     "text": [
      "Element: 10 | Data Type: <class 'int'>\n",
      "Element: 3.14 | Data Type: <class 'float'>\n",
      "Element: Hi | Data Type: <class 'str'>\n",
      "Element: True | Data Type: <class 'bool'>\n",
      "Element: [1, 2, 3] | Data Type: <class 'list'>\n",
      "Element: {'name': 'John', 'age': 25} | Data Type: <class 'dict'>\n",
      "Element: None | Data Type: <class 'NoneType'>\n",
      "Element: (4, 5, 6) | Data Type: <class 'tuple'>\n",
      "Element: False | Data Type: <class 'bool'>\n",
      "Element: World | Data Type: <class 'str'>\n"
     ]
    }
   ],
   "source": [
    "my_list = [10, 3.14, 'Hi', True, [1, 2, 3], {'name': 'John', 'age': 25}, None, (4, 5, 6), False, 'World']\n",
    "\n",
    "for element in my_list:\n",
    "    print(f\"Element: {element} | Data Type: {type(element)}\")"
   ]
  },
  {
   "cell_type": "markdown",
   "id": "09b76c50-b2a5-4838-adf5-b498d3353939",
   "metadata": {},
   "source": [
    "Q5. Using a while loop, verify if the number A is purely divisible by number B and if so then how many\n",
    "times it can be divisible."
   ]
  },
  {
   "cell_type": "code",
   "execution_count": 30,
   "id": "5c49410f-7fc8-42f8-bb16-9ef4d4bb0a18",
   "metadata": {},
   "outputs": [
    {
     "name": "stdout",
     "output_type": "stream",
     "text": [
      "Number A is divisible by B 2 times.\n"
     ]
    }
   ],
   "source": [
    "A = 36\n",
    "B = 6\n",
    "count = 0\n",
    "\n",
    "while A % B == 0:\n",
    "    A = A / B\n",
    "    count += 1\n",
    "\n",
    "print(f\"Number A is divisible by B {count} times.\")\n"
   ]
  },
  {
   "cell_type": "markdown",
   "id": "c99a8b73-b4f0-479e-bf9f-82d0a3a9574d",
   "metadata": {},
   "source": [
    "Q6. Create a list containing 25 int type data. Using for loop and if-else condition print if the element is\n",
    "divisible by 3 or not."
   ]
  },
  {
   "cell_type": "code",
   "execution_count": 32,
   "id": "5dffda60-2b9b-4e1e-baa5-62265998668c",
   "metadata": {},
   "outputs": [
    {
     "name": "stdout",
     "output_type": "stream",
     "text": [
      "4 is not divisible by 3.\n",
      "9 is divisible by 3.\n",
      "12 is divisible by 3.\n",
      "15 is divisible by 3.\n",
      "17 is not divisible by 3.\n",
      "21 is divisible by 3.\n",
      "24 is divisible by 3.\n",
      "27 is divisible by 3.\n",
      "30 is divisible by 3.\n",
      "33 is divisible by 3.\n",
      "36 is divisible by 3.\n",
      "39 is divisible by 3.\n",
      "42 is divisible by 3.\n",
      "45 is divisible by 3.\n",
      "48 is divisible by 3.\n",
      "51 is divisible by 3.\n",
      "54 is divisible by 3.\n",
      "57 is divisible by 3.\n",
      "60 is divisible by 3.\n",
      "63 is divisible by 3.\n",
      "66 is divisible by 3.\n",
      "69 is divisible by 3.\n",
      "72 is divisible by 3.\n",
      "75 is divisible by 3.\n",
      "78 is divisible by 3.\n"
     ]
    }
   ],
   "source": [
    "my_list = [4, 9, 12, 15, 17, 21, 24, 27, 30, 33, 36, 39, 42, 45, 48, 51, 54, 57, 60, 63, 66, 69, 72, 75, 78]\n",
    "\n",
    "for element in my_list:\n",
    "    if element % 3 == 0:\n",
    "        print(f\"{element} is divisible by 3.\")\n",
    "    else:\n",
    "        print(f\"{element} is not divisible by 3.\")\n"
   ]
  },
  {
   "cell_type": "markdown",
   "id": "a52fdcb7-7a34-4fb4-bca8-f5da324234ad",
   "metadata": {},
   "source": [
    "Q7. What do you understand about mutable and immutable data types? Give examples for both showing\n",
    "this property."
   ]
  },
  {
   "cell_type": "markdown",
   "id": "4ff06a6e-0c89-44f2-9d26-955df48bb21f",
   "metadata": {},
   "source": [
    "(i) Immutable Data Types:\n",
    "Immutable data types are those whose values cannot be changed once they are created. If you need to modify an immutable object, you create a new object with the desired value"
   ]
  },
  {
   "cell_type": "code",
   "execution_count": 35,
   "id": "7fc6b3f6-fde9-4933-b1d4-adc7a482261d",
   "metadata": {},
   "outputs": [
    {
     "name": "stdout",
     "output_type": "stream",
     "text": [
      "15\n"
     ]
    }
   ],
   "source": [
    "# (i) int\n",
    "x = 10\n",
    "x += 5 # Creating a new object with the value 15\n",
    "print(x)"
   ]
  },
  {
   "cell_type": "markdown",
   "id": "b32fd237-3c82-4ba5-8797-7377139346dc",
   "metadata": {},
   "source": [
    "In the above example, when 'x' is modified, a new integer object is created with the value 15. The original integer object with the value 10 remains unchanged."
   ]
  },
  {
   "cell_type": "code",
   "execution_count": 36,
   "id": "f431a678-59ba-411e-82d2-135f5ee36462",
   "metadata": {},
   "outputs": [
    {
     "name": "stdout",
     "output_type": "stream",
     "text": [
      "2.71\n"
     ]
    }
   ],
   "source": [
    "# (ii) float\n",
    "y = 3.14\n",
    "y = 2.71  # Creating a new object with the value 2.71\n",
    "print(y)  "
   ]
  },
  {
   "cell_type": "markdown",
   "id": "45a5d8cd-0345-462b-a934-cc8b427ecb37",
   "metadata": {},
   "source": [
    "Similarly, when 'y' is assigned a new value, a new float object with the value 2.71 is created."
   ]
  },
  {
   "cell_type": "markdown",
   "id": "e96a8097-cf81-4a28-ab46-8bd73e98edc1",
   "metadata": {},
   "source": [
    "(ii) Mutable Data Types:\n",
    "Mutable data types, on the other hand, allow modifications to their values after creation. "
   ]
  },
  {
   "cell_type": "code",
   "execution_count": 37,
   "id": "41410b84-7c05-4337-b00e-10a77bb227f3",
   "metadata": {},
   "outputs": [
    {
     "name": "stdout",
     "output_type": "stream",
     "text": [
      "[1, 2, 3, 4]\n"
     ]
    }
   ],
   "source": [
    "# (i) List\n",
    "my_list = [1, 2, 3]\n",
    "my_list.append(4)  # Modifying the original list by adding an element\n",
    "print(my_list)  \n"
   ]
  },
  {
   "cell_type": "markdown",
   "id": "24cc6ed3-77b2-4732-9317-a39f334e5c03",
   "metadata": {},
   "source": [
    "In the above example, the original list [1, 2, 3] is mutable, allowing the addition of a new element using the append() method.\n"
   ]
  },
  {
   "cell_type": "code",
   "execution_count": 38,
   "id": "e6327384-23cf-4964-9f2b-0648b7bea185",
   "metadata": {},
   "outputs": [
    {
     "name": "stdout",
     "output_type": "stream",
     "text": [
      "{'name': 'John', 'age': 30}\n"
     ]
    }
   ],
   "source": [
    "# (ii) Dictionary\n",
    "my_dict = {'name': 'John', 'age': 28}\n",
    "my_dict['age'] = 30  # Modifying the value associated with the 'age' key\n",
    "print(my_dict) \n"
   ]
  },
  {
   "cell_type": "markdown",
   "id": "4f2370e1-3fd1-415a-95c4-27b0f8cdaa35",
   "metadata": {},
   "source": [
    "The dictionary value associated with the key 'age' is modified, changing it from 29 to 30."
   ]
  },
  {
   "cell_type": "code",
   "execution_count": null,
   "id": "b1c4e2f7-a87e-4a58-b46d-0a7709242aa7",
   "metadata": {},
   "outputs": [],
   "source": []
  }
 ],
 "metadata": {
  "kernelspec": {
   "display_name": "Python 3 (ipykernel)",
   "language": "python",
   "name": "python3"
  },
  "language_info": {
   "codemirror_mode": {
    "name": "ipython",
    "version": 3
   },
   "file_extension": ".py",
   "mimetype": "text/x-python",
   "name": "python",
   "nbconvert_exporter": "python",
   "pygments_lexer": "ipython3",
   "version": "3.10.8"
  }
 },
 "nbformat": 4,
 "nbformat_minor": 5
}
