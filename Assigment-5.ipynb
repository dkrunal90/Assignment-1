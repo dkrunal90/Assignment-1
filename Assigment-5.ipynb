{
 "cells": [
  {
   "cell_type": "markdown",
   "id": "865100cc-0b48-4630-acba-960bcd561afc",
   "metadata": {},
   "source": [
    "Q1, Create a vehicle class with an init method having instance variables as name_of_vehicle, max_speed\n",
    "and average_of_vehicle."
   ]
  },
  {
   "cell_type": "code",
   "execution_count": 5,
   "id": "67ef6040-95b7-483a-bf9d-93e0c5a0c1f4",
   "metadata": {},
   "outputs": [],
   "source": [
    "class vehicle:\n",
    "    \n",
    "    def __init__(self, name_of_vehicle, max_speed, average_of_vehicle):\n",
    "        self.name_of_vehicle = name_of_vehicle\n",
    "        self.max_speed = max_speed\n",
    "        self.average_of_vehicle = average_of_vehicle"
   ]
  },
  {
   "cell_type": "code",
   "execution_count": 8,
   "id": "17984607-5fb7-44db-958b-95e5d128ed20",
   "metadata": {},
   "outputs": [
    {
     "name": "stdout",
     "output_type": "stream",
     "text": [
      "car\n",
      "200\n",
      "40\n"
     ]
    }
   ],
   "source": [
    "car = vehicle(\"car\", 200, 40)\n",
    "print(car.name_of_vehicle)\n",
    "print(car.max_speed)\n",
    "print(car.average_of_vehicle)"
   ]
  },
  {
   "cell_type": "markdown",
   "id": "ace3d877-6adf-4ac4-8688-776db1940c0e",
   "metadata": {},
   "source": [
    "Q2. Create a child class car from the vehicle class created in Que 1, which will inherit the vehicle class.\n",
    "Create a method named seating_capacity which takes capacity as an argument and returns the name of\n",
    "the vehicle and its seating capacity."
   ]
  },
  {
   "cell_type": "code",
   "execution_count": 11,
   "id": "0935ff38-dbe1-4e51-9d7a-6e897cf741d4",
   "metadata": {},
   "outputs": [],
   "source": [
    "class vehicle:\n",
    "    \n",
    "    def __init__(self, name_of_vehicle, max_speed, average_of_vehicle):\n",
    "        self.name_of_vehicle = name_of_vehicle\n",
    "        self.max_speed = max_speed\n",
    "        self.average_of_vehicle = average_of_vehicle\n",
    "    \n",
    "    def seating_capacity(self, capacity):\n",
    "        return f\"The {self.name_of_vehicle} has a seating capacity of {capacity} people.\"\n",
    "    "
   ]
  },
  {
   "cell_type": "code",
   "execution_count": 14,
   "id": "814f0a60-6996-43ad-88f2-6339775356df",
   "metadata": {},
   "outputs": [
    {
     "name": "stdout",
     "output_type": "stream",
     "text": [
      "The Sedan has a seating capacity of 5 people.\n"
     ]
    }
   ],
   "source": [
    "car = vehicle(\"Sedan\", 200, 40)\n",
    "print(car.seating_capacity(5))  # Output: The Sedan has a seating capacity of 5 people.\n"
   ]
  },
  {
   "cell_type": "markdown",
   "id": "d16aa104-719e-471a-9ab6-d0d4f9666d23",
   "metadata": {},
   "source": [
    "Q3. What is multiple inheritance? Write a python code to demonstrate multiple inheritance."
   ]
  },
  {
   "cell_type": "code",
   "execution_count": 15,
   "id": "1704703a-35e0-435b-8cda-89b53482dfc3",
   "metadata": {},
   "outputs": [
    {
     "name": "stdout",
     "output_type": "stream",
     "text": [
      "Bat speaks\n",
      "Flying\n"
     ]
    }
   ],
   "source": [
    "class Animal:\n",
    "    def __init__(self, name):\n",
    "        self.name = name\n",
    "\n",
    "    def speak(self):\n",
    "        pass\n",
    "\n",
    "\n",
    "class Mammal(Animal):\n",
    "    def __init__(self, name):\n",
    "        super().__init__(name)\n",
    "\n",
    "    def speak(self):\n",
    "        return \"Mammal speaks\"\n",
    "\n",
    "\n",
    "class Flyable:\n",
    "    def fly(self):\n",
    "        return \"Flying\"\n",
    "\n",
    "\n",
    "class Bat(Mammal, Flyable):\n",
    "    def __init__(self, name):\n",
    "        super().__init__(name)\n",
    "\n",
    "    def speak(self):\n",
    "        return \"Bat speaks\"\n",
    "\n",
    "\n",
    "bat = Bat(\"Bobby\")\n",
    "print(bat.speak())  # Output: Bat speaks\n",
    "print(bat.fly())  # Output: Flying\n"
   ]
  },
  {
   "cell_type": "markdown",
   "id": "e64e0baa-ea1f-47bc-86e3-21cedd52633a",
   "metadata": {},
   "source": [
    "Q4. What are getter and setter in python? Create a class and create a getter and a setter method in this\n",
    "class."
   ]
  },
  {
   "cell_type": "markdown",
   "id": "30fd19aa-577d-47b0-9bd0-74aca27cb0e3",
   "metadata": {},
   "source": [
    "Getters and setters are methods used to access and modify the attributes (instance variables) of a class in a controlled manner. They provide an abstraction layer between the class's internal data and the external code that interacts with the class.\n",
    "\n",
    "Getters are methods that allow you to retrieve the value of an attribute, while setters are methods that allow you to set or modify the value of an attribute. Getters and setters are typically used to enforce encapsulation and provide data validation or additional logic when accessing or modifying attributes."
   ]
  },
  {
   "cell_type": "code",
   "execution_count": 16,
   "id": "38135304-7794-4d23-99fd-f55de670ff0a",
   "metadata": {},
   "outputs": [
    {
     "name": "stdout",
     "output_type": "stream",
     "text": [
      "Alice\n",
      "Bob\n"
     ]
    }
   ],
   "source": [
    "class Person:\n",
    "    def __init__(self, name):\n",
    "        self._name = name\n",
    "\n",
    "    def get_name(self):\n",
    "        return self._name\n",
    "\n",
    "    def set_name(self, new_name):\n",
    "        if isinstance(new_name, str):\n",
    "            self._name = new_name\n",
    "        else:\n",
    "            raise ValueError(\"Name must be a string.\")\n",
    "\n",
    "\n",
    "# Create an instance of the Person class\n",
    "person = Person(\"Alice\")\n",
    "\n",
    "# Get the name using the getter method\n",
    "print(person.get_name())  # Output: Alice\n",
    "\n",
    "# Set a new name using the setter method\n",
    "person.set_name(\"Bob\")\n",
    "\n",
    "# Get the updated name\n",
    "print(person.get_name())  # Output: Bob\n"
   ]
  },
  {
   "cell_type": "markdown",
   "id": "46aa2b29-446e-408d-8470-4bcfc395108b",
   "metadata": {},
   "source": [
    "Q5.What is method overriding in python? Write a python code to demonstrate method overriding."
   ]
  },
  {
   "cell_type": "markdown",
   "id": "30d913e3-16b6-4e8f-92ba-3948cf0d9114",
   "metadata": {},
   "source": [
    "Method overriding is a feature in object-oriented programming where a subclass provides a different implementation of a method that is already defined in its superclass. This allows the subclass to modify or extend the behavior of the inherited method."
   ]
  },
  {
   "cell_type": "code",
   "execution_count": null,
   "id": "62478d46-50ef-41a6-8f5e-f4455c8a284f",
   "metadata": {},
   "outputs": [],
   "source": [
    "class Animal:\n",
    "    def sound(self):\n",
    "        return \"Animal makes a sound.\"\n",
    "\n",
    "\n",
    "class Dog(Animal):\n",
    "    def sound(self):\n",
    "        return \"Dog barks.\"\n",
    "\n",
    "\n",
    "class Cat(Animal):\n",
    "    def sound(self):\n",
    "        return \"Cat meows.\"\n",
    "\n",
    "\n",
    "animal = Animal()\n",
    "print(animal.sound())  # Output: Animal makes a sound.\n",
    "\n",
    "dog = Dog()\n",
    "print(dog.sound())  # Output: Dog barks.\n",
    "\n",
    "cat = Cat()\n",
    "print(cat.sound())  # Output: Cat meows.\n"
   ]
  }
 ],
 "metadata": {
  "kernelspec": {
   "display_name": "Python 3 (ipykernel)",
   "language": "python",
   "name": "python3"
  },
  "language_info": {
   "codemirror_mode": {
    "name": "ipython",
    "version": 3
   },
   "file_extension": ".py",
   "mimetype": "text/x-python",
   "name": "python",
   "nbconvert_exporter": "python",
   "pygments_lexer": "ipython3",
   "version": "3.10.8"
  }
 },
 "nbformat": 4,
 "nbformat_minor": 5
}
