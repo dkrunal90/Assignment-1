{
 "cells": [
  {
   "cell_type": "markdown",
   "id": "862289b1-6379-4d77-94a5-8f9ec8ac5262",
   "metadata": {},
   "source": [
    "Q1. How do you comment code in Python? What are the different types of comments?"
   ]
  },
  {
   "cell_type": "markdown",
   "id": "73a69d02-70c1-4fc9-83ea-a747b6ac6b02",
   "metadata": {},
   "source": [
    "ANS:- Python supports two types of comments:\n",
    "1.Single-line comments\n",
    "2.Multi-line comments"
   ]
  },
  {
   "cell_type": "code",
   "execution_count": 1,
   "id": "b21a2643-e6aa-45a0-9e56-b6e033d241c6",
   "metadata": {},
   "outputs": [
    {
     "name": "stdout",
     "output_type": "stream",
     "text": [
      "Hello, Krunal\n"
     ]
    }
   ],
   "source": [
    "# This is a single-line comment\n",
    "print(\"Hello, Krunal\") "
   ]
  },
  {
   "cell_type": "code",
   "execution_count": 2,
   "id": "c88bc713-8f6a-46e3-9644-e0ca06324276",
   "metadata": {},
   "outputs": [
    {
     "name": "stdout",
     "output_type": "stream",
     "text": [
      "Hello, Krunal\n"
     ]
    }
   ],
   "source": [
    "\"\"\"\n",
    "This is a multi-line comment.\n",
    "\"\"\"\n",
    "print(\"Hello, Krunal\")"
   ]
  },
  {
   "cell_type": "markdown",
   "id": "7528f4ac-1a2e-4f99-86d8-3f11fd656957",
   "metadata": {},
   "source": [
    "Q2. What are variables in Python? How do you declare and assign values to variables?"
   ]
  },
  {
   "cell_type": "markdown",
   "id": "a4155c24-9c5e-4862-b504-0af728c0bee0",
   "metadata": {},
   "source": [
    "ANS:- Variables are used to store and manipulate data. A variable is essentially a named location in memory where you can store a value. Unlike some other programming languages, Python is dynamically typed, which means you don't need to explicitly declare the type of a variable before assigning a value to it."
   ]
  },
  {
   "cell_type": "code",
   "execution_count": 3,
   "id": "faaf7856-1d16-4dd3-a2ea-1ccc28ab06a7",
   "metadata": {},
   "outputs": [],
   "source": [
    "# Variable declaration and assignment\n",
    "message = \"Hello, Krunal!\"\n",
    "number = 42\n",
    "pi = 3.14159\n",
    "\n",
    "# Variable reassignment\n",
    "message = \"Hello, Python!\"\n",
    "number = number + 1"
   ]
  },
  {
   "cell_type": "markdown",
   "id": "76c1e5b2-0397-4754-8ec2-9acd3e572099",
   "metadata": {},
   "source": [
    "Q3. How do you convert one data type to another in Python?"
   ]
  },
  {
   "cell_type": "markdown",
   "id": "6dcf0338-16b8-400d-933c-b11feca2cc6f",
   "metadata": {},
   "source": [
    "ANS:- You can convert one data type to another using type conversion functions or techniques. \n",
    "1. Using Type Casting."
   ]
  },
  {
   "cell_type": "code",
   "execution_count": 4,
   "id": "a396bf80-e3d7-4d5d-92e3-ee0437620a9a",
   "metadata": {},
   "outputs": [],
   "source": [
    "# Type conversion using explicit casting\n",
    "num = 42\n",
    "float_num = float(num)\n",
    "str_num = str(num)\n",
    "bool_value = bool(num)\n"
   ]
  },
  {
   "cell_type": "code",
   "execution_count": 8,
   "id": "44f8782e-3a74-45a8-acdf-ed34e0d4250c",
   "metadata": {},
   "outputs": [],
   "source": [
    "# for example\n",
    "num = '21'"
   ]
  },
  {
   "cell_type": "code",
   "execution_count": 9,
   "id": "ca966bd2-dd61-487e-a445-ef76431f2033",
   "metadata": {},
   "outputs": [
    {
     "data": {
      "text/plain": [
       "str"
      ]
     },
     "execution_count": 9,
     "metadata": {},
     "output_type": "execute_result"
    }
   ],
   "source": [
    "type(num)"
   ]
  },
  {
   "cell_type": "code",
   "execution_count": 10,
   "id": "aa3b7e0e-843b-49d8-a963-1a97cc68ee3f",
   "metadata": {},
   "outputs": [
    {
     "data": {
      "text/plain": [
       "int"
      ]
     },
     "execution_count": 10,
     "metadata": {},
     "output_type": "execute_result"
    }
   ],
   "source": [
    "type(int(num))"
   ]
  },
  {
   "cell_type": "markdown",
   "id": "bccc4fed-1e20-4fde-887a-b57fce9c9a96",
   "metadata": {},
   "source": [
    "2. Using Conversion Methods. "
   ]
  },
  {
   "cell_type": "code",
   "execution_count": 11,
   "id": "91f48303-4f3e-4ee9-af88-71b27893d132",
   "metadata": {},
   "outputs": [],
   "source": [
    "# Conversion methods\n",
    "num_str = \"42\"\n",
    "int_num = int(num_str)\n",
    "\n",
    "tuple_data = (1, 2, 3)\n",
    "list_data = list(tuple_data)\n"
   ]
  },
  {
   "cell_type": "markdown",
   "id": "660c3811-80dc-4f08-bb80-e8f2ad2f864f",
   "metadata": {},
   "source": [
    "Q4. How do you write and execute a Python script from the command line?"
   ]
  },
  {
   "cell_type": "markdown",
   "id": "404030d3-7e83-4038-be43-d3bf615f8891",
   "metadata": {},
   "source": [
    "ANS:- \n",
    "1. Open a text editor or an Integrated Development Environment (IDE) to write your Python script. Create a new file and save it with a .py extension. For example, you can name it script.py.\n",
    "2. In the text editor, write your Python code. For example, let's say you want to print \"Hello, World!\" using the print() function:\n",
    "3. Save the file after writing your Python code.\n",
    "4. Open a command prompt or terminal window.\n",
    "5. Navigate to the directory where your Python script is located using the cd command. \n",
    "6. Once you are in the correct directory, you can execute the Python script by typing python followed by the script's file name. \n",
    "7. Press Enter to run the command, and the Python interpreter will execute the script. In this case, the output \"Hello, World!\" will be displayed on the command line."
   ]
  },
  {
   "cell_type": "markdown",
   "id": "9199ec65-c79b-47d3-b4d3-9c35eeb0e2c4",
   "metadata": {},
   "source": [
    "Q5. Given a list my_list = [1, 2, 3, 4, 5], write the code to slice the list and obtain the sub-list [2, 3]."
   ]
  },
  {
   "cell_type": "code",
   "execution_count": 12,
   "id": "dc8850c7-8644-4468-9ba6-d6a17e51763f",
   "metadata": {},
   "outputs": [
    {
     "name": "stdout",
     "output_type": "stream",
     "text": [
      "[2, 3]\n"
     ]
    }
   ],
   "source": [
    "my_list = [1, 2, 3, 4, 5]\n",
    "sub_list = my_list[1:3]\n",
    "print(sub_list)\n"
   ]
  },
  {
   "cell_type": "markdown",
   "id": "f265a844-b447-437f-8e3e-e0919e4f4962",
   "metadata": {},
   "source": [
    "Q6. What is a complex number in mathematics, and how is it represented in Python?"
   ]
  },
  {
   "cell_type": "code",
   "execution_count": 14,
   "id": "a5cf5702-355a-446f-b88b-46efcd031a6b",
   "metadata": {},
   "outputs": [],
   "source": [
    "# This is the complex number in math.\n",
    "z = 3 + 4j"
   ]
  },
  {
   "cell_type": "code",
   "execution_count": 16,
   "id": "ba309183-d0d0-4e9e-abdb-7e5ac0b2b30b",
   "metadata": {},
   "outputs": [
    {
     "name": "stdout",
     "output_type": "stream",
     "text": [
      "(6+1j)\n",
      "(-2+5j)\n",
      "(14+8j)\n",
      "(0.1+0.8j)\n"
     ]
    }
   ],
   "source": [
    "# Here the example to use complex number in python.\n",
    "z1 = 2 + 3j\n",
    "z2 = 4 - 2j\n",
    "\n",
    "sum_result = z1 + z2\n",
    "difference_result = z1 - z2\n",
    "product_result = z1 * z2\n",
    "division_result = z1 / z2\n",
    "\n",
    "print(sum_result)       \n",
    "print(difference_result)  \n",
    "print(product_result)    \n",
    "print(division_result)   \n"
   ]
  },
  {
   "cell_type": "markdown",
   "id": "ca2127f9-59ec-4f1e-8cfa-2bc0885a85e6",
   "metadata": {},
   "source": [
    "Q7. What is the correct way to declare a variable named age and assign the value 25 to it?"
   ]
  },
  {
   "cell_type": "code",
   "execution_count": 19,
   "id": "5dd59f16-0576-4298-ba2b-eeecb35842ac",
   "metadata": {},
   "outputs": [
    {
     "name": "stdout",
     "output_type": "stream",
     "text": [
      "25\n"
     ]
    }
   ],
   "source": [
    "age = 25\n",
    "print(age)"
   ]
  },
  {
   "cell_type": "markdown",
   "id": "f82ad678-d8f7-4398-b126-a878a167d186",
   "metadata": {},
   "source": [
    "Q8. Declare a variable named price and assign the value 9.99 to it. What data type does this variable\n",
    "belong to?"
   ]
  },
  {
   "cell_type": "code",
   "execution_count": 21,
   "id": "947ecb8e-e5c7-426b-8268-9a597c63eded",
   "metadata": {},
   "outputs": [
    {
     "name": "stdout",
     "output_type": "stream",
     "text": [
      "9.99\n"
     ]
    },
    {
     "data": {
      "text/plain": [
       "float"
      ]
     },
     "execution_count": 21,
     "metadata": {},
     "output_type": "execute_result"
    }
   ],
   "source": [
    "price = 9.99 \n",
    "print(price)\n",
    "type(price)"
   ]
  },
  {
   "cell_type": "markdown",
   "id": "f6a8533c-f737-4ac4-81a7-7c8b68190b8a",
   "metadata": {},
   "source": [
    "Q9. Create a variable named name and assign your full name to it as a string. How would you print the\n",
    "value of this variable?"
   ]
  },
  {
   "cell_type": "code",
   "execution_count": 23,
   "id": "327ebcc9-52cd-4190-805c-aa4caab4c6e9",
   "metadata": {},
   "outputs": [
    {
     "name": "stdout",
     "output_type": "stream",
     "text": [
      "Krunal Desai\n"
     ]
    }
   ],
   "source": [
    "name = \"Krunal Desai\"\n",
    "print(name)"
   ]
  },
  {
   "cell_type": "markdown",
   "id": "b377fed0-4681-48ed-8acd-d76e6e7131e1",
   "metadata": {},
   "source": [
    "Q10. Given the string \"Hello, World!\", extract the substring \"World\"."
   ]
  },
  {
   "cell_type": "code",
   "execution_count": 24,
   "id": "5e770ab4-7578-4069-a055-11110591027a",
   "metadata": {},
   "outputs": [
    {
     "name": "stdout",
     "output_type": "stream",
     "text": [
      "World\n"
     ]
    }
   ],
   "source": [
    "string = \"Hello, World!\"\n",
    "substring = string[7:12]\n",
    "print(substring)"
   ]
  },
  {
   "cell_type": "markdown",
   "id": "4696fc2f-89fe-4f7e-bbbb-8acdc42ac104",
   "metadata": {},
   "source": [
    "Q11. Create a variable named \"is_student\" and assign it a boolean value indicating whether you are\n",
    "currently a student or not."
   ]
  },
  {
   "cell_type": "code",
   "execution_count": 28,
   "id": "0dc7450e-1d63-45b1-a758-ec626741ca3c",
   "metadata": {},
   "outputs": [
    {
     "data": {
      "text/plain": [
       "bool"
      ]
     },
     "execution_count": 28,
     "metadata": {},
     "output_type": "execute_result"
    }
   ],
   "source": [
    "is_student = True\n",
    "type(is_student)"
   ]
  },
  {
   "cell_type": "code",
   "execution_count": null,
   "id": "6a9fe7c2-c013-4166-bd5d-6350cf1ee854",
   "metadata": {},
   "outputs": [],
   "source": []
  }
 ],
 "metadata": {
  "kernelspec": {
   "display_name": "Python 3 (ipykernel)",
   "language": "python",
   "name": "python3"
  },
  "language_info": {
   "codemirror_mode": {
    "name": "ipython",
    "version": 3
   },
   "file_extension": ".py",
   "mimetype": "text/x-python",
   "name": "python",
   "nbconvert_exporter": "python",
   "pygments_lexer": "ipython3",
   "version": "3.10.8"
  }
 },
 "nbformat": 4,
 "nbformat_minor": 5
}
