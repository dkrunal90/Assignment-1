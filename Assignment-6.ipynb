{
 "cells": [
  {
   "cell_type": "markdown",
   "id": "e1c881f5-9725-4552-a408-a3963072289c",
   "metadata": {},
   "source": [
    "Q1. Explain Class and Object with respect to Object-Oriented Programming. Give a suitable example."
   ]
  },
  {
   "cell_type": "markdown",
   "id": "c05c65f4-1de9-41e8-9301-349125901cbd",
   "metadata": {},
   "source": [
    "A class is a blueprint or a template for creating objects. It defines the properties (attributes) and behaviors (methods) that the objects of that class will possess. A class acts as a blueprint for creating multiple objects with similar characteristics.\n",
    "\n",
    "An object, on the other hand, is an instance of a class. It represents a specific entity or item that is created based on the class definition. Each object has its own unique identity and state, and it can perform actions or exhibit behaviors defined by the class."
   ]
  },
  {
   "cell_type": "code",
   "execution_count": 1,
   "id": "8ab4301c-4ea3-4d9f-adf2-86c28f113ed2",
   "metadata": {},
   "outputs": [
    {
     "name": "stdout",
     "output_type": "stream",
     "text": [
      "Red\n",
      "Toyota\n",
      "The car is starting.\n",
      "The car is accelerating. Current speed: 50 km/h\n",
      "The car has stopped.\n"
     ]
    }
   ],
   "source": [
    "class Car:\n",
    "    def __init__(self, color, brand, model):\n",
    "        self.color = color\n",
    "        self.brand = brand\n",
    "        self.model = model\n",
    "        self.speed = 0\n",
    "    \n",
    "    def start(self):\n",
    "        print(\"The car is starting.\")\n",
    "\n",
    "    def accelerate(self, increment):\n",
    "        self.speed += increment\n",
    "        print(f\"The car is accelerating. Current speed: {self.speed} km/h\")\n",
    "\n",
    "    def brake(self):\n",
    "        self.speed = 0\n",
    "        print(\"The car has stopped.\")\n",
    "\n",
    "# Creating objects of the Car class\n",
    "car1 = Car(\"Red\", \"Honda\", \"Civic\")\n",
    "car2 = Car(\"Blue\", \"Toyota\", \"Corolla\")\n",
    "\n",
    "# Accessing object attributes\n",
    "print(car1.color)  # Output: Red\n",
    "print(car2.brand)  # Output: Toyota\n",
    "\n",
    "# Invoking object methods\n",
    "car1.start()  # Output: The car is starting.\n",
    "car2.accelerate(50)  # Output: The car is accelerating. Current speed: 50 km/h\n",
    "car1.brake()  # Output: The car has stopped.\n"
   ]
  },
  {
   "cell_type": "markdown",
   "id": "f0045148-b14d-4b85-a647-3c1bf857f2c1",
   "metadata": {},
   "source": [
    "Q2. Name the four pillars of OOPs."
   ]
  },
  {
   "cell_type": "markdown",
   "id": "db525b2b-10f4-4607-b0fe-56951db9e65c",
   "metadata": {},
   "source": [
    "1. Encapsulation\n",
    "2. Inheritance\n",
    "3. Polymorphism\n",
    "4. Abstraction"
   ]
  },
  {
   "cell_type": "markdown",
   "id": "2d144bfc-124b-4777-9f88-b0d7dcc7e6a8",
   "metadata": {},
   "source": [
    "Q3. Explain why the __init__() function is used. Give a suitable example."
   ]
  },
  {
   "cell_type": "markdown",
   "id": "47d07c47-ee2e-4a83-b99b-c851c78f332d",
   "metadata": {},
   "source": [
    "The __init__() function is a special method in Python classes that is automatically called when an object of the class is created. It is known as the constructor method because it initializes the object's attributes or state.\n",
    "\n",
    "The primary purpose of the __init__() function is to set up the initial state of an object by assigning values to its attributes. It allows you to define the necessary parameters and initialize the object with specific values when it is instantiated."
   ]
  },
  {
   "cell_type": "code",
   "execution_count": 2,
   "id": "1df628b0-4ec7-4d5e-92f3-fb5dcc880f1b",
   "metadata": {},
   "outputs": [
    {
     "name": "stdout",
     "output_type": "stream",
     "text": [
      "Alice\n",
      "30\n",
      "Name: Alice, Age: 25\n"
     ]
    }
   ],
   "source": [
    "class Person:\n",
    "    def __init__(self, name, age):\n",
    "        self.name = name\n",
    "        self.age = age\n",
    "\n",
    "    def display_info(self):\n",
    "        print(f\"Name: {self.name}, Age: {self.age}\")\n",
    "\n",
    "\n",
    "# Creating objects of the Person class\n",
    "person1 = Person(\"Alice\", 25)\n",
    "person2 = Person(\"Bob\", 30)\n",
    "\n",
    "# Accessing object attributes\n",
    "print(person1.name)  # Output: Alice\n",
    "print(person2.age)   # Output: 30\n",
    "\n",
    "# Invoking object method\n",
    "person1.display_info()  # Output: Name: Alice, Age: 25\n"
   ]
  },
  {
   "cell_type": "markdown",
   "id": "9b8d92f9-59c7-4a7f-8730-5e7e48f125c3",
   "metadata": {},
   "source": [
    "Q4. Why self is used in OOPs?"
   ]
  },
  {
   "cell_type": "markdown",
   "id": "b989e057-fdd6-4949-a978-9b77c041b3fc",
   "metadata": {},
   "source": [
    "In object-oriented programming (OOP), self is a conventionally used parameter name that refers to the instance of a class. It is used within class methods to access and manipulate the attributes and methods of the object."
   ]
  },
  {
   "cell_type": "code",
   "execution_count": 3,
   "id": "88dfe278-3949-4f66-a8cf-892f59736865",
   "metadata": {},
   "outputs": [
    {
     "name": "stdout",
     "output_type": "stream",
     "text": [
      "Radius: 5\n",
      "Area: 78.5\n"
     ]
    }
   ],
   "source": [
    "class Circle:\n",
    "    def __init__(self, radius):\n",
    "        self.radius = radius\n",
    "\n",
    "    def calculate_area(self):\n",
    "        area = 3.14 * self.radius ** 2\n",
    "        return area\n",
    "\n",
    "    def display_radius(self):\n",
    "        print(\"Radius:\", self.radius)\n",
    "\n",
    "\n",
    "# Creating an object of the Circle class\n",
    "circle = Circle(5)\n",
    "\n",
    "# Accessing attributes and invoking methods using self\n",
    "circle.display_radius()  # Output: Radius: 5\n",
    "print(\"Area:\", circle.calculate_area())  # Output: Area: 78.5\n"
   ]
  },
  {
   "cell_type": "markdown",
   "id": "55fd0b3b-7755-48ee-ade8-fb9d943cff4f",
   "metadata": {},
   "source": [
    "Q5. What is inheritance? Give an example for each type of inheritance."
   ]
  },
  {
   "cell_type": "markdown",
   "id": "1267be17-fb4f-4e50-9919-2474e7ff0fef",
   "metadata": {},
   "source": [
    "Inheritance is a fundamental concept in object-oriented programming (OOP) that allows one class to inherit the properties (attributes) and behaviors (methods) of another class. The class that inherits is called the derived class or subclass, and the class being inherited from is called the base class or superclass. Inheritance promotes code reuse, extensibility, and the creation of hierarchical class relationships."
   ]
  },
  {
   "cell_type": "code",
   "execution_count": 4,
   "id": "09af07a7-a903-455d-9362-907bdb030399",
   "metadata": {},
   "outputs": [
    {
     "name": "stdout",
     "output_type": "stream",
     "text": [
      "Eating...\n",
      "Barking...\n"
     ]
    }
   ],
   "source": [
    "# 1. Single Inheritance\n",
    "\n",
    "class Animal:\n",
    "    def __init__(self, name):\n",
    "        self.name = name\n",
    "\n",
    "    def eat(self):\n",
    "        print(\"Eating...\")\n",
    "\n",
    "class Dog(Animal):\n",
    "    def bark(self):\n",
    "        print(\"Barking...\")\n",
    "\n",
    "# Creating an object of the Dog class\n",
    "dog = Dog(\"Buddy\")\n",
    "dog.eat()  # Output: Eating...\n",
    "dog.bark()  # Output: Barking...\n"
   ]
  },
  {
   "cell_type": "code",
   "execution_count": 5,
   "id": "d0eb06d8-eb6e-434e-bed7-07d13e0f51a9",
   "metadata": {},
   "outputs": [
    {
     "name": "stdout",
     "output_type": "stream",
     "text": [
      "Flying...\n",
      "Swimming...\n"
     ]
    }
   ],
   "source": [
    "# 2. Multiple Inheritance\n",
    "\n",
    "class Flyer:\n",
    "    def fly(self):\n",
    "        print(\"Flying...\")\n",
    "\n",
    "class Swimmer:\n",
    "    def swim(self):\n",
    "        print(\"Swimming...\")\n",
    "\n",
    "class FlyingFish(Flyer, Swimmer):\n",
    "    pass\n",
    "\n",
    "# Creating an object of the FlyingFish class\n",
    "flying_fish = FlyingFish()\n",
    "flying_fish.fly()  # Output: Flying...\n",
    "flying_fish.swim()  # Output: Swimming...\n"
   ]
  },
  {
   "cell_type": "code",
   "execution_count": null,
   "id": "d05836fa-d6b0-4b0b-ad88-ff82e0865172",
   "metadata": {},
   "outputs": [],
   "source": []
  }
 ],
 "metadata": {
  "kernelspec": {
   "display_name": "Python 3 (ipykernel)",
   "language": "python",
   "name": "python3"
  },
  "language_info": {
   "codemirror_mode": {
    "name": "ipython",
    "version": 3
   },
   "file_extension": ".py",
   "mimetype": "text/x-python",
   "name": "python",
   "nbconvert_exporter": "python",
   "pygments_lexer": "ipython3",
   "version": "3.10.8"
  }
 },
 "nbformat": 4,
 "nbformat_minor": 5
}
