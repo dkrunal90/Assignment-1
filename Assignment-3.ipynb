{
 "cells": [
  {
   "cell_type": "markdown",
   "id": "211df813-d5b9-4319-a16e-fdd37d3530b8",
   "metadata": {},
   "source": [
    "Q1. Which keyword is used to create a function? Create a function to return a list of odd numbers in the\n",
    "range of 1 to 25."
   ]
  },
  {
   "cell_type": "markdown",
   "id": "97ca6d20-a4d9-48d3-b087-80263af978e4",
   "metadata": {},
   "source": [
    "Ans:-\\\n",
    "The keyword used to create a function is typically \"def\" (\"define\")"
   ]
  },
  {
   "cell_type": "code",
   "execution_count": 8,
   "id": "986ccef9-77c7-4072-82b9-551b9f929c1a",
   "metadata": {},
   "outputs": [],
   "source": [
    "def odd_numbers():\n",
    "    odd_numbers = []\n",
    "    for number in range(1,26):\n",
    "        if number % 2 != 0:\n",
    "            odd_numbers.append(number)\n",
    "    return odd_numbers"
   ]
  },
  {
   "cell_type": "code",
   "execution_count": 9,
   "id": "483ccba4-7f00-456a-85d0-2edc5d549cca",
   "metadata": {},
   "outputs": [
    {
     "data": {
      "text/plain": [
       "[1, 3, 5, 7, 9, 11, 13, 15, 17, 19, 21, 23, 25]"
      ]
     },
     "execution_count": 9,
     "metadata": {},
     "output_type": "execute_result"
    }
   ],
   "source": [
    "odd_numbers()"
   ]
  },
  {
   "cell_type": "markdown",
   "id": "2bb94495-5485-4aea-a3b7-c293655b460a",
   "metadata": {},
   "source": [
    "Q2. Why *args and **kwargs is used in some functions? Create a function each for *args and **kwargs\n",
    "to demonstrate their use."
   ]
  },
  {
   "cell_type": "markdown",
   "id": "809d3da7-69a2-4c12-bc80-5fdaf02dacac",
   "metadata": {},
   "source": [
    "1. *args:\n",
    "The args parameter allows a function to accept any number of positional arguments. It is represented as an iterable containing all the additional positional arguments passed to the function. "
   ]
  },
  {
   "cell_type": "code",
   "execution_count": 11,
   "id": "6da4aa7e-7f30-4cc0-9fff-06e5e910119f",
   "metadata": {},
   "outputs": [
    {
     "name": "stdout",
     "output_type": "stream",
     "text": [
      "15\n"
     ]
    }
   ],
   "source": [
    "def sum_numbers(*args):\n",
    "    total = 0\n",
    "    for num in args:\n",
    "        total += num\n",
    "    return total\n",
    "result = sum_numbers(1, 2, 3, 4, 5)\n",
    "print(result)  \n"
   ]
  },
  {
   "cell_type": "markdown",
   "id": "f5972efe-5457-4e3b-bee2-5861b291c4a2",
   "metadata": {},
   "source": [
    "2. **kwargs:\n",
    "The kwargs parameter allows a function to accept any number of keyword arguments. It is represented as a dictionary containing the additional keyword arguments passed to the function."
   ]
  },
  {
   "cell_type": "code",
   "execution_count": 12,
   "id": "0db4fd36-8c96-485d-ba5f-dafc07763bc8",
   "metadata": {},
   "outputs": [
    {
     "name": "stdout",
     "output_type": "stream",
     "text": [
      "name: Krunal\n",
      "age: 25\n",
      "country: USA\n"
     ]
    }
   ],
   "source": [
    "def print_info(**kwargs):\n",
    "    for key, value in kwargs.items():\n",
    "        print(f\"{key}: {value}\")\n",
    "print_info(name=\"Krunal\", age=25, country=\"USA\")\n"
   ]
  },
  {
   "cell_type": "markdown",
   "id": "7e436756-531a-4278-ae18-7b8ca5e83d44",
   "metadata": {},
   "source": [
    "Q3. What is an iterator in python? Name the method used to initialise the iterator object and the method\n",
    "used for iteration. Use these methods to print the first five elements of the given list [2, 4, 6, 8, 10, 12, 14,\n",
    "16, 18, 20]."
   ]
  },
  {
   "cell_type": "markdown",
   "id": "b64753a9-f260-4288-b267-a25f3eb79cc7",
   "metadata": {},
   "source": [
    "Ans:-\\\n",
    "In Python, an iterator is an object that represents a stream of data. "
   ]
  },
  {
   "cell_type": "markdown",
   "id": "c651b33b-f501-4ef9-b9e2-3047c6114ac8",
   "metadata": {},
   "source": [
    "two methods: __iter__() and __next__().\n",
    "\n",
    "__iter__(): This method is used to initialize the iterator object. It returns the iterator object itself and is called when you want to iterate over the data.\n",
    "\n",
    "__next__(): This method is used to retrieve the next element from the iterator. It returns the next element in the iterator's sequence."
   ]
  },
  {
   "cell_type": "code",
   "execution_count": 13,
   "id": "82e35731-db20-4dea-92ff-92186873fe2f",
   "metadata": {},
   "outputs": [
    {
     "name": "stdout",
     "output_type": "stream",
     "text": [
      "2\n",
      "4\n",
      "6\n",
      "8\n",
      "10\n"
     ]
    }
   ],
   "source": [
    "numbers = [2, 4, 6, 8, 10, 12, 14, 16, 18, 20]\n",
    "\n",
    "iter_numbers = iter(numbers)\n",
    "\n",
    "for _ in range(5):\n",
    "    try:\n",
    "        element = next(iter_numbers)\n",
    "        print(element)\n",
    "    except StopIteration:\n",
    "        break\n"
   ]
  },
  {
   "cell_type": "markdown",
   "id": "9c22b39c-c6ac-4b50-a3d6-11e3d06641cc",
   "metadata": {},
   "source": [
    "Q4. What is a generator function in python? Why yield keyword is used? Give an example of a generator\n",
    "function."
   ]
  },
  {
   "cell_type": "markdown",
   "id": "028be918-572c-4fe7-8ca0-b3a9ee23b6ee",
   "metadata": {},
   "source": [
    "Ans:-\\\n",
    "A generator function is a special type of function that generates a sequence of values using the yield keyword instead of the return keyword. It allows you to create iterators in a more concise and memory-efficient way.\n",
    "\n",
    "When a generator function is called, it returns a generator object. This generator object can be iterated over using a loop or used with other iterator-related functions. The generator function's code is executed only when values are requested, and it remembers its internal state between successive calls.\n",
    "\n",
    "The yield keyword is used in a generator function to specify a value to be generated in the sequence. When the yield keyword is encountered, the generator function's execution is paused, and the yielded value is returned. The function's state is saved, allowing it to resume from where it left off when the next value is requested."
   ]
  },
  {
   "cell_type": "code",
   "execution_count": 14,
   "id": "704a1c61-e58b-4f98-b730-d05b239ea4a3",
   "metadata": {},
   "outputs": [
    {
     "name": "stdout",
     "output_type": "stream",
     "text": [
      "0\n",
      "2\n",
      "4\n",
      "6\n",
      "8\n"
     ]
    }
   ],
   "source": [
    "def generate_even_numbers():\n",
    "    num = 0\n",
    "    while True:\n",
    "        yield num\n",
    "        num += 2\n",
    "        \n",
    "even_generator = generate_even_numbers()\n",
    "\n",
    "for _ in range(5):\n",
    "    print(next(even_generator))\n"
   ]
  },
  {
   "cell_type": "markdown",
   "id": "44ec093f-a88a-42bd-ae02-201434910603",
   "metadata": {},
   "source": [
    "Q5. Create a generator function for prime numbers less than 1000. Use the next() method to print the\n",
    "first 20 prime numbers."
   ]
  },
  {
   "cell_type": "code",
   "execution_count": 16,
   "id": "f842b7ee-8bfe-492b-b6ea-4158030c4f60",
   "metadata": {},
   "outputs": [
    {
     "name": "stdout",
     "output_type": "stream",
     "text": [
      "2\n",
      "3\n",
      "5\n",
      "7\n",
      "11\n",
      "13\n",
      "17\n",
      "19\n",
      "23\n",
      "29\n",
      "31\n",
      "37\n",
      "41\n",
      "43\n",
      "47\n",
      "53\n",
      "59\n",
      "61\n",
      "67\n",
      "71\n"
     ]
    }
   ],
   "source": [
    "def generate_primes():\n",
    "    primes = []\n",
    "    num = 2\n",
    "    while True:\n",
    "        if all(num % prime != 0 for prime in primes):\n",
    "            primes.append(num)\n",
    "            yield num\n",
    "        num += 1\n",
    "\n",
    "prime_generator = generate_primes()\n",
    "\n",
    "for _ in range(20):\n",
    "    print(next(prime_generator))\n"
   ]
  },
  {
   "cell_type": "markdown",
   "id": "b012aed6-4a05-4288-8019-0c9dcd3df1e5",
   "metadata": {},
   "source": [
    "Q6. Write a python program to print the first 10 Fibonacci numbers using a while loop."
   ]
  },
  {
   "cell_type": "code",
   "execution_count": 17,
   "id": "c3940d15-9577-46cb-8ab5-0d3dbf4b64b0",
   "metadata": {},
   "outputs": [
    {
     "name": "stdout",
     "output_type": "stream",
     "text": [
      "0\n",
      "1\n",
      "1\n",
      "2\n",
      "3\n",
      "5\n",
      "8\n",
      "13\n",
      "21\n",
      "34\n"
     ]
    }
   ],
   "source": [
    "a, b = 0, 1\n",
    "count = 0\n",
    "\n",
    "while count < 10:\n",
    "    print(a)\n",
    "    a, b = b, a + b\n",
    "    count += 1\n"
   ]
  },
  {
   "cell_type": "markdown",
   "id": "0de9ef3c-d02d-4dce-9eda-b74372e0b50c",
   "metadata": {},
   "source": [
    "Q7. Write a List Comprehension to iterate through the given string: ‘pwskills’.\n",
    "Expected output: ['p', 'w', 's', 'k', 'i', 'l', 'l', 's']"
   ]
  },
  {
   "cell_type": "code",
   "execution_count": 20,
   "id": "9c2b9c33-1036-4323-aee3-0d15ffd2cd8a",
   "metadata": {},
   "outputs": [
    {
     "data": {
      "text/plain": [
       "['p', 'w', 's', 'k', 'i', 'l', 'l', 's']"
      ]
     },
     "execution_count": 20,
     "metadata": {},
     "output_type": "execute_result"
    }
   ],
   "source": [
    "s = \"pwskills\"\n",
    "list(map(lambda s : s.lower(), s))"
   ]
  },
  {
   "cell_type": "markdown",
   "id": "4fb7b1ee-a0a9-4e25-b850-4907dd45048a",
   "metadata": {},
   "source": [
    "Q8. Write a python program to check whether a given number is Palindrome or not using a while loop."
   ]
  },
  {
   "cell_type": "code",
   "execution_count": 4,
   "id": "423e44a2-d3aa-407c-aadf-ef3c4c23b55d",
   "metadata": {},
   "outputs": [
    {
     "name": "stdin",
     "output_type": "stream",
     "text": [
      "Enter a number:  24\n"
     ]
    },
    {
     "name": "stdout",
     "output_type": "stream",
     "text": [
      "24 is not a palindrome\n"
     ]
    }
   ],
   "source": [
    "def is_palindrome(number):\n",
    "    original_number = number\n",
    "    reversed_number = 0\n",
    "    \n",
    "    while number > 0:\n",
    "        remainder = number % 10\n",
    "        reversed_number = (reversed_number * 10) + remainder\n",
    "        number = number // 10\n",
    "    \n",
    "    if original_number == reversed_number:\n",
    "        return True\n",
    "    else:\n",
    "        return False\n",
    "num = int(input(\"Enter a number: \"))\n",
    "if is_palindrome(num):\n",
    "    print(f\"{num} is a palindrome\")\n",
    "else:\n",
    "    print(f\"{num} is not a palindrome\")\n",
    "\n"
   ]
  },
  {
   "cell_type": "markdown",
   "id": "f4ad72cf-8aba-40da-8b1b-a25b55eddcef",
   "metadata": {},
   "source": [
    "Q9. Write a code to print odd numbers from 1 to 100 using list comprehension."
   ]
  },
  {
   "cell_type": "code",
   "execution_count": 5,
   "id": "4b1389bd-2237-4861-8fda-acc562414872",
   "metadata": {},
   "outputs": [],
   "source": [
    "l1 = range(1,100)"
   ]
  },
  {
   "cell_type": "code",
   "execution_count": 7,
   "id": "d4170c1b-be1b-41ae-9f6d-eaa1d6949e15",
   "metadata": {},
   "outputs": [
    {
     "data": {
      "text/plain": [
       "[1,\n",
       " 3,\n",
       " 5,\n",
       " 7,\n",
       " 9,\n",
       " 11,\n",
       " 13,\n",
       " 15,\n",
       " 17,\n",
       " 19,\n",
       " 21,\n",
       " 23,\n",
       " 25,\n",
       " 27,\n",
       " 29,\n",
       " 31,\n",
       " 33,\n",
       " 35,\n",
       " 37,\n",
       " 39,\n",
       " 41,\n",
       " 43,\n",
       " 45,\n",
       " 47,\n",
       " 49,\n",
       " 51,\n",
       " 53,\n",
       " 55,\n",
       " 57,\n",
       " 59,\n",
       " 61,\n",
       " 63,\n",
       " 65,\n",
       " 67,\n",
       " 69,\n",
       " 71,\n",
       " 73,\n",
       " 75,\n",
       " 77,\n",
       " 79,\n",
       " 81,\n",
       " 83,\n",
       " 85,\n",
       " 87,\n",
       " 89,\n",
       " 91,\n",
       " 93,\n",
       " 95,\n",
       " 97,\n",
       " 99]"
      ]
     },
     "execution_count": 7,
     "metadata": {},
     "output_type": "execute_result"
    }
   ],
   "source": [
    "list(filter(lambda x : x % 2 != 0 ,l1))"
   ]
  },
  {
   "cell_type": "code",
   "execution_count": null,
   "id": "a4c7b56f-3127-4e89-9c52-a14a52fc12a7",
   "metadata": {},
   "outputs": [],
   "source": []
  }
 ],
 "metadata": {
  "kernelspec": {
   "display_name": "Python 3 (ipykernel)",
   "language": "python",
   "name": "python3"
  },
  "language_info": {
   "codemirror_mode": {
    "name": "ipython",
    "version": 3
   },
   "file_extension": ".py",
   "mimetype": "text/x-python",
   "name": "python",
   "nbconvert_exporter": "python",
   "pygments_lexer": "ipython3",
   "version": "3.10.8"
  }
 },
 "nbformat": 4,
 "nbformat_minor": 5
}
